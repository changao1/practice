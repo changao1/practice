{
 "cells": [
  {
   "cell_type": "code",
   "execution_count": 1,
   "metadata": {},
   "outputs": [
    {
     "name": "stdout",
     "output_type": "stream",
     "text": [
      "my_function variables are:\n",
      "    a=10 \n",
      "    b=2 \n",
      "    my_nested_function=<function my_function.<locals>.my_nested_function at 0x000001A9DF951828> \n",
      "my_nested_function variables:\n",
      "    c=10 \n",
      "    d=2 \n",
      "The output from my function is  240\n"
     ]
    }
   ],
   "source": [
    "def my_function(a, b):\n",
    "\n",
    "    def my_nested_function(c, d):\n",
    "        print(\"my_nested_function variables:\")    # printing all variables in the scope of the function\n",
    "        for symbol, value in locals().items():    # printing all variables in the scope of the function\n",
    "            print (\"    %s=%r \"%(symbol,value))   # printing all variables in the scope of the function\n",
    "        return c + d\n",
    "\n",
    "    print(\"my_function variables are:\")           # printing all variables in the scope of the function\n",
    "    for symbol, value in locals().items():        # printing all variables in the scope of the function\n",
    "        print (\"    %s=%r \"%(symbol,value))       # printing all variables in the scope of the function\n",
    "\n",
    "    x = a * b * my_nested_function(a,b)\n",
    "    return x\n",
    "\n",
    "# call from the main program\n",
    "x=10\n",
    "y=2\n",
    "print('The output from my function is ',my_function(x,y))"
   ]
  },
  {
   "cell_type": "markdown",
   "metadata": {},
   "source": [
    "## #8 class"
   ]
  },
  {
   "cell_type": "markdown",
   "metadata": {},
   "source": [
    "## #9 class"
   ]
  },
  {
   "cell_type": "code",
   "execution_count": 1,
   "metadata": {},
   "outputs": [
    {
     "ename": "NameError",
     "evalue": "name 'n' is not defined",
     "output_type": "error",
     "traceback": [
      "\u001b[1;31m---------------------------------------------------------------------------\u001b[0m",
      "\u001b[1;31mNameError\u001b[0m                                 Traceback (most recent call last)",
      "\u001b[1;32m<ipython-input-1-e6de91e6016c>\u001b[0m in \u001b[0;36m<module>\u001b[1;34m\u001b[0m\n\u001b[1;32m----> 1\u001b[1;33m \u001b[1;32massert\u001b[0m \u001b[0misinstance\u001b[0m \u001b[1;33m(\u001b[0m\u001b[0mn\u001b[0m\u001b[1;33m,\u001b[0m \u001b[0mint\u001b[0m\u001b[1;33m)\u001b[0m\u001b[1;33m,\u001b[0m \u001b[1;34m'parity() only works for int'\u001b[0m\u001b[1;33m\u001b[0m\u001b[1;33m\u001b[0m\u001b[0m\n\u001b[0m",
      "\u001b[1;31mNameError\u001b[0m: name 'n' is not defined"
     ]
    }
   ],
   "source": [
    "assert isinstance (n, int), 'parity() only works for int'"
   ]
  },
  {
   "cell_type": "code",
   "execution_count": 2,
   "metadata": {},
   "outputs": [],
   "source": [
    "# parity check\n",
    "def parity (n,verbose=False):\n",
    "    '''Returns 1 if passed integer number is odd\n",
    "    '''\n",
    "    if not isinstance(n, int): raise TypeError('Only integers in parity()')\n",
    "    if verbose: print('n = {:08b}'.format(n))\n",
    "    return n & 1"
   ]
  },
  {
   "cell_type": "code",
   "execution_count": 3,
   "metadata": {},
   "outputs": [
    {
     "ename": "NameError",
     "evalue": "name 'm' is not defined",
     "output_type": "error",
     "traceback": [
      "\u001b[1;31m---------------------------------------------------------------------------\u001b[0m",
      "\u001b[1;31mNameError\u001b[0m                                 Traceback (most recent call last)",
      "\u001b[1;32m<ipython-input-3-bc0afacbcf2a>\u001b[0m in \u001b[0;36m<module>\u001b[1;34m\u001b[0m\n\u001b[1;32m----> 1\u001b[1;33m \u001b[0mprint\u001b[0m\u001b[1;33m(\u001b[0m\u001b[1;34m'Maximum in {} is {:.2f}'\u001b[0m\u001b[1;33m.\u001b[0m\u001b[0mformat\u001b[0m\u001b[1;33m(\u001b[0m\u001b[0mlist\u001b[0m\u001b[1;33m,\u001b[0m\u001b[0mm\u001b[0m\u001b[1;33m)\u001b[0m\u001b[1;33m)\u001b[0m\u001b[1;33m\u001b[0m\u001b[1;33m\u001b[0m\u001b[0m\n\u001b[0m",
      "\u001b[1;31mNameError\u001b[0m: name 'm' is not defined"
     ]
    }
   ],
   "source": [
    " print('Maximum in {} is {:.2f}'.format(list,m))"
   ]
  },
  {
   "cell_type": "code",
   "execution_count": 4,
   "metadata": {},
   "outputs": [
    {
     "ename": "NameError",
     "evalue": "name 'j' is not defined",
     "output_type": "error",
     "traceback": [
      "\u001b[1;31m---------------------------------------------------------------------------\u001b[0m",
      "\u001b[1;31mNameError\u001b[0m                                 Traceback (most recent call last)",
      "\u001b[1;32m<ipython-input-4-606762adf10f>\u001b[0m in \u001b[0;36m<module>\u001b[1;34m\u001b[0m\n\u001b[1;32m----> 1\u001b[1;33m \u001b[0msum\u001b[0m\u001b[1;33m(\u001b[0m\u001b[1;36m1\u001b[0m\u001b[1;33m[\u001b[0m\u001b[1;33m:\u001b[0m\u001b[0mj\u001b[0m\u001b[1;33m]\u001b[0m\u001b[1;33m)\u001b[0m \u001b[1;31m#for list 1, form 0 to j-1\u001b[0m\u001b[1;33m\u001b[0m\u001b[1;33m\u001b[0m\u001b[0m\n\u001b[0m",
      "\u001b[1;31mNameError\u001b[0m: name 'j' is not defined"
     ]
    }
   ],
   "source": [
    "sum(1[:j]) #for list 1, form 0 to j-1"
   ]
  },
  {
   "cell_type": "code",
   "execution_count": 5,
   "metadata": {},
   "outputs": [],
   "source": [
    "# yideld"
   ]
  },
  {
   "cell_type": "code",
   "execution_count": 6,
   "metadata": {},
   "outputs": [],
   "source": [
    "def compositions(N,m):\n",
    "    '''Iterable on compositions of N with m parts\n",
    "    Returns the generator (to be used in for loops)\n",
    "    '''\n",
    "    cmp=[0,]*m\n",
    "    cmp[m-1]=N  # initial composition is all to the last\n",
    "    yield cmp\n",
    "    while cmp[0]!=N:\n",
    "        i=m-1\n",
    "        while cmp[i]==0: i-=1  # find lowest non-zero digit\n",
    "        cmp[i-1] = cmp[i-1]+1  # increment next digit\n",
    "        cmp[m-1] = cmp[i]-1    # the rest to the lowest\n",
    "        if i!=m-1: cmp[i] = 0  # maintain cost sum\n",
    "        yield cmp"
   ]
  },
  {
   "cell_type": "code",
   "execution_count": 1,
   "metadata": {},
   "outputs": [],
   "source": [
    "# callback"
   ]
  },
  {
   "cell_type": "code",
   "execution_count": 4,
   "metadata": {},
   "outputs": [
    {
     "ename": "SyntaxError",
     "evalue": "invalid syntax (<ipython-input-4-95eabc8c742d>, line 1)",
     "output_type": "error",
     "traceback": [
      "\u001b[1;36m  File \u001b[1;32m\"<ipython-input-4-95eabc8c742d>\"\u001b[1;36m, line \u001b[1;32m1\u001b[0m\n\u001b[1;33m    **kwargs\u001b[0m\n\u001b[1;37m     ^\u001b[0m\n\u001b[1;31mSyntaxError\u001b[0m\u001b[1;31m:\u001b[0m invalid syntax\n"
     ]
    }
   ],
   "source": [
    "**kwargs"
   ]
  },
  {
   "cell_type": "code",
   "execution_count": 5,
   "metadata": {},
   "outputs": [
    {
     "name": "stdout",
     "output_type": "stream",
     "text": [
      "[255   0   1]\n"
     ]
    }
   ],
   "source": [
    "import numpy as np\n",
    "\n",
    "x = np.array([0,0,0],dtype='uint8')\n",
    "x[0] = 255\n",
    "x[1] = x[0] + 1\n",
    "x[2] = x[1] + 1\n",
    "print(x)"
   ]
  },
  {
   "cell_type": "code",
   "execution_count": 9,
   "metadata": {},
   "outputs": [
    {
     "name": "stdout",
     "output_type": "stream",
     "text": [
      "[-inf  nan  inf  inf]\n"
     ]
    },
    {
     "ename": "ZeroDivisionError",
     "evalue": "division by zero",
     "output_type": "error",
     "traceback": [
      "\u001b[1;31m---------------------------------------------------------------------------\u001b[0m",
      "\u001b[1;31mZeroDivisionError\u001b[0m                         Traceback (most recent call last)",
      "\u001b[1;32m<ipython-input-9-aadee8d61bd2>\u001b[0m in \u001b[0;36m<module>\u001b[1;34m\u001b[0m\n\u001b[0;32m      3\u001b[0m \u001b[0mx\u001b[0m \u001b[1;33m=\u001b[0m \u001b[0mnp\u001b[0m\u001b[1;33m.\u001b[0m\u001b[0marray\u001b[0m\u001b[1;33m(\u001b[0m\u001b[1;33m[\u001b[0m\u001b[1;33m-\u001b[0m\u001b[1;36m1\u001b[0m\u001b[1;33m,\u001b[0m\u001b[1;36m0\u001b[0m\u001b[1;33m,\u001b[0m\u001b[1;36m1\u001b[0m\u001b[1;33m,\u001b[0m\u001b[1;36m10\u001b[0m\u001b[1;33m]\u001b[0m\u001b[1;33m,\u001b[0m\u001b[0mdtype\u001b[0m\u001b[1;33m=\u001b[0m\u001b[1;34m'float64'\u001b[0m\u001b[1;33m)\u001b[0m\u001b[1;33m\u001b[0m\u001b[1;33m\u001b[0m\u001b[0m\n\u001b[0;32m      4\u001b[0m \u001b[0mprint\u001b[0m\u001b[1;33m(\u001b[0m \u001b[0mx\u001b[0m \u001b[1;33m/\u001b[0m \u001b[1;36m0\u001b[0m \u001b[1;33m)\u001b[0m\u001b[1;33m\u001b[0m\u001b[1;33m\u001b[0m\u001b[0m\n\u001b[1;32m----> 5\u001b[1;33m \u001b[0my\u001b[0m \u001b[1;33m=\u001b[0m \u001b[1;36m10\u001b[0m \u001b[1;33m/\u001b[0m \u001b[1;36m0\u001b[0m \u001b[1;31m# core Python\u001b[0m\u001b[1;33m\u001b[0m\u001b[1;33m\u001b[0m\u001b[0m\n\u001b[0m",
      "\u001b[1;31mZeroDivisionError\u001b[0m: division by zero"
     ]
    }
   ],
   "source": [
    "# Inf and NaN\n",
    "np.seterr(all=None, divide='ignore', over=None, under=None, invalid='ignore')\n",
    "x = np.array([-1,0,1,10],dtype='float64')\n",
    "print( x / 0 )\n",
    "y = 10 / 0 # core Python"
   ]
  },
  {
   "cell_type": "code",
   "execution_count": 8,
   "metadata": {},
   "outputs": [],
   "source": [
    "# np.seterr(all=None, divide='ignore', over=None, under=None, invalid='ignore')"
   ]
  },
  {
   "cell_type": "code",
   "execution_count": 10,
   "metadata": {},
   "outputs": [
    {
     "name": "stdout",
     "output_type": "stream",
     "text": [
      "True False True\n"
     ]
    }
   ],
   "source": [
    "a = (np.inf == np.inf)\n",
    "b = (np.nan == np.nan)  # Can not compare nan to nan!\n",
    "c = np.isnan(np.nan)\n",
    "print (a, b, c)"
   ]
  },
  {
   "cell_type": "code",
   "execution_count": 11,
   "metadata": {},
   "outputs": [],
   "source": [
    "# Can not compare nan to nan!"
   ]
  },
  {
   "cell_type": "code",
   "execution_count": 13,
   "metadata": {},
   "outputs": [],
   "source": [
    "\n",
    "import sys\n",
    "def memory_usage(var,grow,steps=10):\n",
    "    \"\"\"Returns data on memory usage when var is grown using supplied function for given number of steps\"\"\"\n",
    "    d={\"x\":[],\"y\":[],\"v\":[]} # dictionary for x, y data, and values\n",
    "    for i in range(steps):\n",
    "        var=grow(var) # next value\n",
    "        d[\"v\"].append(var)\n",
    "        d[\"x\"].append(i+1)\n",
    "        d[\"y\"].append(sys.getsizeof(var))\n",
    "    return d"
   ]
  },
  {
   "cell_type": "code",
   "execution_count": 16,
   "metadata": {},
   "outputs": [
    {
     "data": {
      "image/png": "[encoded data removed]",
      "text/plain": [
       "<Figure size 432x288 with 1 Axes>"
      ]
     },
     "metadata": {
      "needs_background": "light"
     },
     "output_type": "display_data"
    }
   ],
   "source": [
    "x = [0,] # Python list\n",
    "grow = lambda x: [0,]*len(x)*2\n",
    "d1 = memory_usage(x,grow,steps=10)\n",
    "x = np.array([0])\n",
    "grow = lambda x: np.array([0,]*x.size*2,dtype='int8')\n",
    "d2 = memory_usage(x,grow,steps=10)\n",
    "\n",
    "import matplotlib.pyplot as plt\n",
    "%matplotlib inline\n",
    "plt.plot(d1[\"x\"],d1[\"y\"],label='Python')\n",
    "plt.plot(d2[\"x\"],d2[\"y\"],label='Numpy')\n",
    "plt.axis([min(d1[\"x\"]),max(d1[\"x\"]),0,max(d1[\"y\"])+1])\n",
    "plt.ylabel('size in memory, bytes')\n",
    "plt.xlabel('steps of variable update')\n",
    "plt.legend()\n",
    "plt.show()"
   ]
  },
  {
   "cell_type": "code",
   "execution_count": 17,
   "metadata": {},
   "outputs": [
    {
     "name": "stdout",
     "output_type": "stream",
     "text": [
      "[1. 3. 5. 7.]\n"
     ]
    }
   ],
   "source": [
    "a = np.array([1,3,5.0,7])\n",
    "print(a)"
   ]
  },
  {
   "cell_type": "code",
   "execution_count": 23,
   "metadata": {},
   "outputs": [
    {
     "name": "stdout",
     "output_type": "stream",
     "text": [
      "[ 2  0  0  0  0  0  0  0  2  0  0  0  0  0  0  0 16  0  0  0  0  0  0  0\n",
      "  8]\n",
      "\n",
      "[0. 0. 0. 0. 0.]\n",
      "\n",
      "[1. 1. 1. 1. 1.]\n",
      "\n",
      "[0 1 2 3 4 5 6 7 8 9]\n",
      "\n",
      "[2.  2.1 2.2 2.3 2.4 2.5 2.6 2.7 2.8 2.9 3. ]\n"
     ]
    }
   ],
   "source": [
    "a = np.empty(25,'int8')  # not initialized !\n",
    "b = np.zeros(5)          # initialized with zeros\n",
    "c = np.ones(5)\n",
    "d = np.arange(10)\n",
    "e = np.linspace(2, 3, 11) # fill between 2 and 3 with 10 points\n",
    "print(a,b,c,d,e,sep='\\n\\n')"
   ]
  },
  {
   "cell_type": "code",
   "execution_count": 32,
   "metadata": {},
   "outputs": [
    {
     "name": "stdout",
     "output_type": "stream",
     "text": [
      "[ 2  0  0  0  0  0  0  0  2  0  0  0  0  0  0  0 16  0  0  0  0  0  0  0\n",
      "  8]\n"
     ]
    }
   ],
   "source": [
    "a = np.empty(25,'uint8')  # not initialized !\n",
    "print(a)"
   ]
  },
  {
   "cell_type": "code",
   "execution_count": 26,
   "metadata": {},
   "outputs": [
    {
     "name": "stdout",
     "output_type": "stream",
     "text": [
      "[ 7.61799155e-169  1.93246266e-124  7.28684730e-169 -7.02558096e-039\n",
      "  4.17710202e-236  4.49150482e+077 -3.93169539e+289  1.23976730e-221\n",
      " -1.18685004e+255  1.11080778e-033  1.57681905e+232 -1.57360526e-004\n",
      "  1.01435159e+140  2.22531738e-226  2.15436917e-207  3.99674744e-279\n",
      "  1.09668721e-302 -1.99024256e-295 -5.56156451e-031 -2.73986671e-076\n",
      " -6.75270078e+257 -4.26639874e-007 -2.69875230e-002  1.09096411e+166\n",
      "  1.87890321e-305]\n"
     ]
    }
   ],
   "source": [
    "a = np.empty(25,)  # not initialized !\n",
    "print(a)"
   ]
  },
  {
   "cell_type": "code",
   "execution_count": 33,
   "metadata": {},
   "outputs": [
    {
     "name": "stdout",
     "output_type": "stream",
     "text": [
      "[[1. 0. 0. 0. 0.]\n",
      " [0. 1. 0. 0. 0.]\n",
      " [0. 0. 1. 0. 0.]\n",
      " [0. 0. 0. 1. 0.]\n",
      " [0. 0. 0. 0. 1.]]\n",
      "[[1. 1. 1.]\n",
      " [1. 1. 1.]]\n"
     ]
    }
   ],
   "source": [
    "a = np.eye(5) # identity matrix\n",
    "b = np.ones((2,3))\n",
    "print(a)\n",
    "print(b)"
   ]
  },
  {
   "cell_type": "code",
   "execution_count": 34,
   "metadata": {},
   "outputs": [
    {
     "name": "stdout",
     "output_type": "stream",
     "text": [
      "[[3. 3. 3.]\n",
      " [3. 3. 3.]]\n",
      "<class 'numpy.ndarray'>\n",
      "[[3. 3. 3.]\n",
      " [3. 3. 3.]]\n",
      "<class 'numpy.matrix'>\n"
     ]
    }
   ],
   "source": [
    "b=b+2\n",
    "c = np.asmatrix(b) # matrix !\n",
    "print(b)\n",
    "print(type(b))\n",
    "print(c)\n",
    "print(type(c))"
   ]
  },
  {
   "cell_type": "code",
   "execution_count": 35,
   "metadata": {},
   "outputs": [],
   "source": [
    "# np.asmatrix()"
   ]
  },
  {
   "cell_type": "code",
   "execution_count": 37,
   "metadata": {},
   "outputs": [
    {
     "name": "stdout",
     "output_type": "stream",
     "text": [
      "[[3. 3. 3.]\n",
      " [3. 3. 3.]]\n",
      "[[9. 9. 9.]\n",
      " [9. 9. 9.]]\n"
     ]
    }
   ],
   "source": [
    "print(b)\n",
    "print(b*b) # element by element\n",
    "# print(c*c) # matrix multiplication"
   ]
  },
  {
   "cell_type": "code",
   "execution_count": 40,
   "metadata": {},
   "outputs": [
    {
     "name": "stdout",
     "output_type": "stream",
     "text": [
      "[[27. 27.]\n",
      " [27. 27.]]\n"
     ]
    }
   ],
   "source": [
    "print(c*c.transpose())"
   ]
  },
  {
   "cell_type": "code",
   "execution_count": 41,
   "metadata": {},
   "outputs": [
    {
     "name": "stdout",
     "output_type": "stream",
     "text": [
      "[[0.         0.14285714 0.28571429]\n",
      " [0.42857143 0.57142857 0.71428571]\n",
      " [0.85714286 1.         1.14285714]\n",
      " [1.28571429 1.42857143 1.57142857]\n",
      " [1.71428571 1.85714286 2.        ]]\n"
     ]
    }
   ],
   "source": [
    "z = np.linspace(0, 2, 15)\n",
    "z = np.reshape(z, [5, 3])\n",
    "print(z)"
   ]
  },
  {
   "cell_type": "code",
   "execution_count": 50,
   "metadata": {},
   "outputs": [
    {
     "name": "stdout",
     "output_type": "stream",
     "text": [
      "[[0.57142857 0.71428571]\n",
      " [1.         1.14285714]]\n",
      "[0.14285714 0.57142857 1.         1.42857143 1.85714286]\n"
     ]
    }
   ],
   "source": [
    "print( z[1:3,1:] )   # slicing\n",
    "print( z[:,1]    )   # slicing to get the column"
   ]
  },
  {
   "cell_type": "code",
   "execution_count": 51,
   "metadata": {},
   "outputs": [],
   "source": [
    "# print( z[-1]    )   # slicing: returns ?\n",
    "# print( z[-1:]    ) \n",
    "# print( z[1:3,1]  ) "
   ]
  },
  {
   "cell_type": "code",
   "execution_count": 57,
   "metadata": {},
   "outputs": [
    {
     "name": "stdout",
     "output_type": "stream",
     "text": [
      "[[ 4.2         9.3         0.28571429]\n",
      " [ 5.2         9.3         0.71428571]\n",
      " [ 6.2         5.          7.        ]\n",
      " [ 7.2        -2.          1.57142857]\n",
      " [ 8.2         1.85714286  2.        ]]\n"
     ]
    }
   ],
   "source": [
    "z[1,0] = -1\n",
    "z[2] = [4,5,7]  # assign whole row from a list\n",
    "z[:,0] = np.array([4.2,5.2,6.2,7.2,8.2]) # assign column from nparray\n",
    "z[:2,1]=9.3\n",
    "z[3][1]=-2 # note double bracket indexing\n",
    "print(z)"
   ]
  },
  {
   "cell_type": "code",
   "execution_count": 58,
   "metadata": {},
   "outputs": [
    {
     "name": "stdout",
     "output_type": "stream",
     "text": [
      "[[0.         0.18181818 0.36363636]\n",
      " [0.54545455 0.72727273 0.90909091]\n",
      " [1.09090909 1.27272727 1.45454545]\n",
      " [1.63636364 1.81818182 2.        ]]\n",
      "\n"
     ]
    }
   ],
   "source": [
    "z = np.linspace(0, 2, 12)\n",
    "z = np.reshape(z,[4,3])\n",
    "print(z,end='\\n\\n')"
   ]
  },
  {
   "cell_type": "code",
   "execution_count": 62,
   "metadata": {},
   "outputs": [
    {
     "name": "stdout",
     "output_type": "stream",
     "text": [
      "[[0.         0.18181818 0.36363636]\n",
      " [1.09090909 1.27272727 1.45454545]\n",
      " [1.09090909 1.27272727 1.45454545]]\n",
      "[0.         1.27272727 1.09090909]\n",
      "[1.09090909 1.27272727 1.45454545 1.63636364 1.81818182 2.        ]\n"
     ]
    }
   ],
   "source": [
    "print(z[[0,2,2]]) # row0, row2, row2\n",
    "print( z[[0,2,2],[0,1,0]]    )   # numerical (element by element) indexing\n",
    "print( z[z>1.0]              )   # boolean indexing (masking)"
   ]
  },
  {
   "cell_type": "code",
   "execution_count": 63,
   "metadata": {},
   "outputs": [
    {
     "name": "stdout",
     "output_type": "stream",
     "text": [
      "[[False False False]\n",
      " [False False False]\n",
      " [ True  True  True]\n",
      " [ True False False]]\n",
      "\n",
      "[1.09090909 1.27272727 1.45454545 1.63636364]\n"
     ]
    }
   ],
   "source": [
    "mask = np.logical_and(z>1.0,z<1.75)\n",
    "print(mask,end='\\n\\n')\n",
    "print( z[mask]               )   # boolean indexing (masking)"
   ]
  },
  {
   "cell_type": "code",
   "execution_count": 64,
   "metadata": {},
   "outputs": [],
   "source": [
    "# print( z[[0,2,2],[0,1,0]]    )   # numerical (element by element) indexing"
   ]
  },
  {
   "cell_type": "code",
   "execution_count": 65,
   "metadata": {},
   "outputs": [],
   "source": [
    "# np.logical_and()"
   ]
  },
  {
   "cell_type": "code",
   "execution_count": 66,
   "metadata": {},
   "outputs": [
    {
     "data": {
      "text/plain": [
       "array([[2., 2., 2.],\n",
       "       [2., 2., 2.],\n",
       "       [2., 2., 2.]])"
      ]
     },
     "execution_count": 66,
     "metadata": {},
     "output_type": "execute_result"
    }
   ],
   "source": [
    "np.ones((3,3)) + 1"
   ]
  },
  {
   "cell_type": "code",
   "execution_count": 67,
   "metadata": {},
   "outputs": [
    {
     "data": {
      "text/plain": [
       "array([[0, 1, 2],\n",
       "       [1, 2, 3],\n",
       "       [2, 3, 4]])"
      ]
     },
     "execution_count": 67,
     "metadata": {},
     "output_type": "execute_result"
    }
   ],
   "source": [
    "np.arange(3).reshape(3,1) + np.arange(3)"
   ]
  },
  {
   "cell_type": "code",
   "execution_count": 68,
   "metadata": {},
   "outputs": [
    {
     "data": {
      "text/plain": [
       "array([[0, 1, 2],\n",
       "       [1, 2, 3],\n",
       "       [2, 3, 4]])"
      ]
     },
     "execution_count": 68,
     "metadata": {},
     "output_type": "execute_result"
    }
   ],
   "source": [
    "np.arange(3).reshape((3,1)) + np.arange(3)"
   ]
  },
  {
   "cell_type": "code",
   "execution_count": 69,
   "metadata": {},
   "outputs": [
    {
     "data": {
      "text/plain": [
       "matrix([[0, 1, 2],\n",
       "        [1, 2, 3],\n",
       "        [2, 3, 4]])"
      ]
     },
     "execution_count": 69,
     "metadata": {},
     "output_type": "execute_result"
    }
   ],
   "source": [
    "np.asmatrix(np.arange(3).reshape((3,1)) + np.arange(3))"
   ]
  },
  {
   "cell_type": "code",
   "execution_count": 70,
   "metadata": {},
   "outputs": [
    {
     "name": "stdout",
     "output_type": "stream",
     "text": [
      "[[0]\n",
      " [1]\n",
      " [2]\n",
      " [3]\n",
      " [4]]\n",
      "\n",
      "[[0 1 2 3 4]]\n",
      "\n",
      "[[0 1 2 3 4]\n",
      " [1 2 3 4 5]\n",
      " [2 3 4 5 6]\n",
      " [3 4 5 6 7]\n",
      " [4 5 6 7 8]]\n"
     ]
    }
   ],
   "source": [
    "# x = np.arange(5).reshape((5,1))  # or\n",
    "x = np.arange(5)[:,np.newaxis]\n",
    "print(x,end='\\n\\n')\n",
    "print(x.transpose(),end='\\n\\n')\n",
    "print(x + x.transpose())"
   ]
  },
  {
   "cell_type": "code",
   "execution_count": 71,
   "metadata": {},
   "outputs": [
    {
     "name": "stdout",
     "output_type": "stream",
     "text": [
      "[[0]\n",
      " [1]\n",
      " [2]\n",
      " [3]\n",
      " [4]]\n",
      "\n",
      "[[0 1 2 3 4]]\n",
      "\n",
      "[[0 1 2 3 4]\n",
      " [1 2 3 4 5]\n",
      " [2 3 4 5 6]\n",
      " [3 4 5 6 7]\n",
      " [4 5 6 7 8]]\n"
     ]
    }
   ],
   "source": [
    "x = np.arange(5).reshape((5,1))  # or\n",
    "# x = np.arange(5)[:,np.newaxis]\n",
    "print(x,end='\\n\\n')\n",
    "print(x.transpose(),end='\\n\\n')\n",
    "print(x + x.transpose())"
   ]
  },
  {
   "cell_type": "code",
   "execution_count": 72,
   "metadata": {},
   "outputs": [],
   "source": [
    "# [:,np.newaxis] #!"
   ]
  },
  {
   "cell_type": "code",
   "execution_count": 80,
   "metadata": {},
   "outputs": [
    {
     "name": "stdout",
     "output_type": "stream",
     "text": [
      "[[ 0  1  2  3]\n",
      " [ 4  5  6  7]\n",
      " [ 8  9 10 11]]\n",
      "\n",
      "[[0]\n",
      " [1]\n",
      " [2]]\n",
      "\n",
      "[[ 0  1  2  3]\n",
      " [ 5  6  7  8]\n",
      " [10 11 12 13]]\n"
     ]
    }
   ],
   "source": [
    "x = np.arange(12).reshape((3,4))\n",
    "y = np.arange(3).reshape(3, 1)\n",
    "print(x,y,x+y,sep='\\n\\n')\n",
    "# print(x,y,x+y,sep='\\n')\n",
    "# print(x,y,x+y,)"
   ]
  },
  {
   "cell_type": "code",
   "execution_count": 93,
   "metadata": {},
   "outputs": [],
   "source": [
    "# pandas jump first!\n",
    "# linear regression!"
   ]
  },
  {
   "cell_type": "code",
   "execution_count": 83,
   "metadata": {},
   "outputs": [],
   "source": [
    "# np.sum(x, keepdims=True)"
   ]
  },
  {
   "cell_type": "code",
   "execution_count": 91,
   "metadata": {},
   "outputs": [
    {
     "name": "stdout",
     "output_type": "stream",
     "text": [
      "[[ 1  2  0]\n",
      " [ 4 -2  1]\n",
      " [ 0  0 -2]\n",
      " [ 3  1  4]]\n",
      "Solution is array([ 1.75294118,  0.63529412, -1.72941176])\n",
      "Check: max(Ax-b) = 3.45882e+00\n"
     ]
    }
   ],
   "source": [
    "b = np.array([5,5,0,-3])\n",
    "A = np.array([[1,2,0],[4,-2,1],[0,0,-2],[3,1,4]])\n",
    "x=np.linalg.lstsq(A, b, rcond=None)\n",
    "\n",
    "A = np.array([[1,2,0],[4,-2,1],[0,0,-2],[3,1,4]])\n",
    "x,*_=np.linalg.lstsq(A, b, rcond=None) # ignore all outputs except the first\n",
    "print(A)\n",
    "print('Solution is %r' % x)\n",
    "print('Check: max(Ax-b) = %1.5e' % np.max(A@x-b))\n",
    "# help(np.linalg.lstsq)"
   ]
  },
  {
   "cell_type": "code",
   "execution_count": 92,
   "metadata": {},
   "outputs": [
    {
     "name": "stdout",
     "output_type": "stream",
     "text": [
      "Demand is given by Ap+d:\n",
      "A=array([[-3.37430394, -1.45310793, -1.22753269],\n",
      "       [-1.45310793, -2.2627789 , -0.9598895 ],\n",
      "       [-1.22753269, -0.9598895 , -0.56801731]])\n",
      "d=array([100, 100, 100])\n",
      "Supply is given by Bp+s:\n",
      "B=array([[5.24992922, 3.8523148 , 2.6564259 ],\n",
      "       [3.8523148 , 6.13254855, 3.54902636],\n",
      "       [2.6564259 , 3.54902636, 2.70433999]])\n",
      "s=array([0., 0., 0.])\n",
      "Equilibrium prices are     p = [ -4.85622749 -17.41624867  60.32036496]\n",
      "Equilibrium quantities are q = [67.64885668 88.56485767 88.41584083]\n"
     ]
    }
   ],
   "source": [
    "def random_matrix(n,positive=True,maxeigen=10):\n",
    "    '''Generates square random positive/negative semi-definite matrix'''\n",
    "    e=np.random.uniform(0,maxeigen,n) # random eigenvalues\n",
    "    r=np.random.uniform(0,1,n*n).reshape(n,n) # rotation\n",
    "    e = e if positive else -e\n",
    "    A = np.diag(e)  # diagonal matrix with\n",
    "    return r @ A @ r.T  # positive/negative semi-definite\n",
    "n = 3  # number of products\n",
    "A = random_matrix(n,positive=False)  # demand\n",
    "d = np.array([100,]*n)\n",
    "B = random_matrix(n)  # supply\n",
    "s = np.zeros(n)\n",
    "p = np.linalg.solve(A-B, s-d)  # solve for quilibrium\n",
    "q = A @ p + d # equilibrium quantities\n",
    "print('Demand is given by Ap+d:\\nA=%r\\nd=%r' % (A,d))\n",
    "print('Supply is given by Bp+s:\\nB=%r\\ns=%r' % (B,s))\n",
    "print('Equilibrium prices are     p = {}'.format(p))\n",
    "print('Equilibrium quantities are q = {}'.format(q))"
   ]
  },
  {
   "cell_type": "code",
   "execution_count": 2,
   "metadata": {},
   "outputs": [
    {
     "name": "stdout",
     "output_type": "stream",
     "text": [
      "The number of observations = 943\n",
      "Number of variables = 5\n"
     ]
    },
    {
     "data": {
      "text/plain": [
       "occupation     gender\n",
       "administrator  F          45.569620\n",
       "               M          54.430380\n",
       "artist         F          46.428571\n",
       "               M          53.571429\n",
       "doctor         M         100.000000\n",
       "educator       F          27.368421\n",
       "               M          72.631579\n",
       "engineer       F           2.985075\n",
       "               M          97.014925\n",
       "entertainment  F          11.111111\n",
       "               M          88.888889\n",
       "executive      F           9.375000\n",
       "               M          90.625000\n",
       "healthcare     F          68.750000\n",
       "               M          31.250000\n",
       "homemaker      F          85.714286\n",
       "               M          14.285714\n",
       "lawyer         F          16.666667\n",
       "               M          83.333333\n",
       "librarian      F          56.862745\n",
       "               M          43.137255\n",
       "marketing      F          38.461538\n",
       "               M          61.538462\n",
       "none           F          44.444444\n",
       "               M          55.555556\n",
       "other          F          34.285714\n",
       "               M          65.714286\n",
       "programmer     F           9.090909\n",
       "               M          90.909091\n",
       "retired        F           7.142857\n",
       "               M          92.857143\n",
       "salesman       F          25.000000\n",
       "               M          75.000000\n",
       "scientist      F           9.677419\n",
       "               M          90.322581\n",
       "student        F          30.612245\n",
       "               M          69.387755\n",
       "technician     F           3.703704\n",
       "               M          96.296296\n",
       "writer         F          42.222222\n",
       "               M          57.777778\n",
       "Name: gender, dtype: float64"
      ]
     },
     "execution_count": 2,
     "metadata": {},
     "output_type": "execute_result"
    }
   ],
   "source": [
    "import pandas as pd\n",
    "# write your code here\n",
    "url = 'https://raw.githubusercontent.com/justmarkham/DAT8/master/data/u.user'\n",
    "users = pd.read_csv(url, sep='|')\n",
    "print('The number of observations = %d\\nNumber of variables = %d'%users.shape)\n",
    "# nicer solution using div\n",
    "# create a data frame and apply count to gender\n",
    "gender_ocup = users.groupby(['occupation', 'gender']).agg({'gender': 'count'})\n",
    "\n",
    "# create a DataFrame and apply count for each occupation\n",
    "occup_count = users.groupby(['occupation']).agg('count')\n",
    "\n",
    "# divide the gender_ocup per the occup_count and multiply per 100\n",
    "occup_gender = gender_ocup.div(occup_count, level = \"occupation\") * 100\n",
    "\n",
    "# present all rows from the 'gender column'\n",
    "occup_gender.loc[: , 'gender']"
   ]
  },
  {
   "cell_type": "code",
   "execution_count": null,
   "metadata": {},
   "outputs": [],
   "source": []
  }
 ],
 "metadata": {
  "kernelspec": {
   "display_name": "Python 3",
   "language": "python",
   "name": "python3"
  },
  "language_info": {
   "codemirror_mode": {
    "name": "ipython",
    "version": 3
   },
   "file_extension": ".py",
   "mimetype": "text/x-python",
   "name": "python",
   "nbconvert_exporter": "python",
   "pygments_lexer": "ipython3",
   "version": "3.7.4"
  }
 },
 "nbformat": 4,
 "nbformat_minor": 2
}
