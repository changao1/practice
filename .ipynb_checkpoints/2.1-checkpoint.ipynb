{
 "cells": [
  {
   "cell_type": "code",
   "execution_count": 2,
   "metadata": {},
   "outputs": [
    {
     "name": "stdout",
     "output_type": "stream",
     "text": [
      "x is 1\n",
      "type of x is <class 'int'>\n"
     ]
    }
   ],
   "source": [
    "x = 1\n",
    "print('x is %r'%x)\n",
    "print('type of x is %s'%type(x))"
   ]
  },
  {
   "cell_type": "code",
   "execution_count": 6,
   "metadata": {},
   "outputs": [
    {
     "name": "stdout",
     "output_type": "stream",
     "text": [
      "y is 2147483646\n",
      "type of y is <class 'int'>\n",
      "y takes 32 bytes in memory\n"
     ]
    }
   ],
   "source": [
    "import sys\n",
    "y = 0b1111111111111111111111111111110\n",
    "\n",
    "# y = 0x1afe\n",
    "print('y is %r'%y)\n",
    "print('type of y is %s'%type(y))\n",
    "print('y takes %d bytes in memory'%sys.getsizeof(y))"
   ]
  },
  {
   "cell_type": "code",
   "execution_count": 11,
   "metadata": {},
   "outputs": [
    {
     "name": "stdout",
     "output_type": "stream",
     "text": [
      "22 - 33 = 55 (<class 'int'>)\n"
     ]
    }
   ],
   "source": [
    "a = 22\n",
    "b = 33\n",
    "c = a+b\n",
    "print('%d - %d = %r (%s)'%(a,b,c,type(a)))"
   ]
  },
  {
   "cell_type": "code",
   "execution_count": 12,
   "metadata": {},
   "outputs": [
    {
     "name": "stdout",
     "output_type": "stream",
     "text": [
      "22 - 50*33 = -1628(<class 'int'>)\n"
     ]
    }
   ],
   "source": [
    "c = a - 50*b\n",
    "print('%d - 50*%d = %r(%s)'%(a, b, c, (type(c))))"
   ]
  },
  {
   "cell_type": "code",
   "execution_count": 15,
   "metadata": {},
   "outputs": [],
   "source": [
    "# %d\n",
    "# %s\n",
    "# %r"
   ]
  },
  {
   "cell_type": "code",
   "execution_count": 18,
   "metadata": {},
   "outputs": [
    {
     "name": "stdout",
     "output_type": "stream",
     "text": [
      "22 ^ 33 = 199502557355935975909450298726667414302359552(<class 'int'>)\n",
      "22 / 33 = 0.6666666666666666(<class 'float'>)\n"
     ]
    }
   ],
   "source": [
    "c = a**b\n",
    "print('%d ^ %d = %r(%s)'%(a, b, c, (type(c))))\n",
    "c = a/b\n",
    "print('%d / %d = %r(%s)'%(a, b, c, (type(c))))"
   ]
  },
  {
   "cell_type": "code",
   "execution_count": 19,
   "metadata": {},
   "outputs": [
    {
     "name": "stdout",
     "output_type": "stream",
     "text": [
      "155 // 7 = 22 (<class 'int'>)\n",
      "155 % 7 = 1 (<class 'int'>)\n"
     ]
    }
   ],
   "source": [
    "a = 155\n",
    "b = 7\n",
    "c = a//b\n",
    "print(\"%d // %d = %r (%s)\" % (a,b,c,type(c)))\n",
    "c = a%b\n",
    "print(\"%d %% %d = %r (%s)\" % (a,b,c,type(c)))"
   ]
  },
  {
   "cell_type": "code",
   "execution_count": 20,
   "metadata": {},
   "outputs": [
    {
     "name": "stdout",
     "output_type": "stream",
     "text": [
      "x is True\n"
     ]
    }
   ],
   "source": [
    "import sys\n",
    "x = 15 > 10\n",
    "print(\"x is %r\" % x)"
   ]
  },
  {
   "cell_type": "code",
   "execution_count": 21,
   "metadata": {},
   "outputs": [
    {
     "name": "stdout",
     "output_type": "stream",
     "text": [
      "Type of x is <class 'bool'>\n",
      "x takes 28 bytes in memory\n"
     ]
    }
   ],
   "source": [
    "print(\"Type of x is %s\" % type(x))\n",
    "print(\"x takes %d bytes in memory\" % sys.getsizeof(x))"
   ]
  },
  {
   "cell_type": "code",
   "execution_count": 22,
   "metadata": {},
   "outputs": [
    {
     "name": "stdout",
     "output_type": "stream",
     "text": [
      "Type of y is <class 'int'>\n",
      "y takes 28 bytes in memory\n"
     ]
    }
   ],
   "source": [
    "y = 36\n",
    "print(\"Type of y is %s\" % type(y))\n",
    "print(\"y takes %d bytes in memory\" % sys.getsizeof(y))"
   ]
  },
  {
   "cell_type": "code",
   "execution_count": 24,
   "metadata": {},
   "outputs": [
    {
     "name": "stdout",
     "output_type": "stream",
     "text": [
      "(<class 'int'>,)\n"
     ]
    }
   ],
   "source": [
    "print(bool.__bases__)"
   ]
  },
  {
   "cell_type": "code",
   "execution_count": 25,
   "metadata": {},
   "outputs": [
    {
     "data": {
      "text/plain": [
       "-4"
      ]
     },
     "execution_count": 25,
     "metadata": {},
     "output_type": "execute_result"
    }
   ],
   "source": [
    "z = (1 < 5) - 5\n",
    "z"
   ]
  },
  {
   "cell_type": "code",
   "execution_count": 27,
   "metadata": {},
   "outputs": [
    {
     "data": {
      "text/plain": [
       "0"
      ]
     },
     "execution_count": 27,
     "metadata": {},
     "output_type": "execute_result"
    }
   ],
   "source": [
    "x = 10\n",
    "z = x * (x > 10) + x**2 * (x < 10)\n",
    "z"
   ]
  },
  {
   "cell_type": "code",
   "execution_count": 30,
   "metadata": {},
   "outputs": [
    {
     "data": {
      "text/plain": [
       "4"
      ]
     },
     "execution_count": 30,
     "metadata": {},
     "output_type": "execute_result"
    }
   ],
   "source": [
    "y =  5 - (4 > True)\n",
    "y"
   ]
  },
  {
   "cell_type": "code",
   "execution_count": 31,
   "metadata": {},
   "outputs": [
    {
     "data": {
      "text/plain": [
       "True"
      ]
     },
     "execution_count": 31,
     "metadata": {},
     "output_type": "execute_result"
    }
   ],
   "source": [
    "y = 6 < 10 <= 15\n",
    "y"
   ]
  },
  {
   "cell_type": "code",
   "execution_count": 32,
   "metadata": {},
   "outputs": [
    {
     "data": {
      "text/plain": [
       "True"
      ]
     },
     "execution_count": 32,
     "metadata": {},
     "output_type": "execute_result"
    }
   ],
   "source": [
    "y = 5 / 2**4 < 10 or 15\n",
    "y"
   ]
  },
  {
   "cell_type": "code",
   "execution_count": 33,
   "metadata": {},
   "outputs": [
    {
     "name": "stdout",
     "output_type": "stream",
     "text": [
      "x is 183.0\n",
      "Type of x is <class 'float'>\n"
     ]
    }
   ],
   "source": [
    "x = 183.0\n",
    "print(\"x is %r\" % x)\n",
    "print(\"Type of x is %s\" % type(x))"
   ]
  },
  {
   "cell_type": "code",
   "execution_count": 34,
   "metadata": {},
   "outputs": [
    {
     "name": "stdout",
     "output_type": "stream",
     "text": [
      "x takes 24 bytes in memory\n"
     ]
    },
    {
     "data": {
      "text/plain": [
       "sys.float_info(max=1.7976931348623157e+308, max_exp=1024, max_10_exp=308, min=2.2250738585072014e-308, min_exp=-1021, min_10_exp=-307, dig=15, mant_dig=53, epsilon=2.220446049250313e-16, radix=2, rounds=1)"
      ]
     },
     "execution_count": 34,
     "metadata": {},
     "output_type": "execute_result"
    }
   ],
   "source": [
    "print(\"x takes %d bytes in memory\" % sys.getsizeof(x))\n",
    "\n",
    "sys.float_info"
   ]
  },
  {
   "cell_type": "code",
   "execution_count": 37,
   "metadata": {},
   "outputs": [
    {
     "name": "stdout",
     "output_type": "stream",
     "text": [
      "x is inf\n",
      "Type of x is <class 'float'>\n",
      "x takes 24 bytes in memory\n"
     ]
    }
   ],
   "source": [
    "x = 1.79769319e+308\n",
    "print(\"x is %r\" % x)\n",
    "print(\"Type of x is %s\" % type(x))\n",
    "print(\"x takes %d bytes in memory\" % sys.getsizeof(x))"
   ]
  },
  {
   "cell_type": "code",
   "execution_count": 4,
   "metadata": {},
   "outputs": [
    {
     "name": "stdout",
     "output_type": "stream",
     "text": [
      "x is 0.0\n",
      "Type of x is <class 'float'>\n",
      "x takes 24 bytes in memory\n"
     ]
    }
   ],
   "source": [
    "import math\n",
    "import sys\n",
    "# import numpy as m\n",
    "x = math.log(1)         # implementations may vary in different packages/libraries!\n",
    "print(\"x is %r\" % x)\n",
    "print(\"Type of x is %s\" % type(x))\n",
    "print(\"x takes %d bytes in memory\" % sys.getsizeof(x))"
   ]
  },
  {
   "cell_type": "code",
   "execution_count": 10,
   "metadata": {},
   "outputs": [
    {
     "name": "stdout",
     "output_type": "stream",
     "text": [
      "x is 1.2246467991473532e-16j\n",
      "|x| is 0.00000000000000012246\n",
      "Type of x is <class 'complex'>\n",
      "x takes 32 bytes in memory\n"
     ]
    }
   ],
   "source": [
    "from cmath import exp, pi\n",
    "x = 1j\n",
    "x = exp(x*pi)+1 # nearly 0\n",
    "print('x is %r'%x)\n",
    "print('|x| is %1.20f'%abs(x))\n",
    "print(\"Type of x is %s\" % type(x))\n",
    "print(\"x takes %d bytes in memory\" % sys.getsizeof(x))"
   ]
  },
  {
   "cell_type": "code",
   "execution_count": 11,
   "metadata": {},
   "outputs": [
    {
     "name": "stdout",
     "output_type": "stream",
     "text": [
      "s is 'Hellow world'\n",
      "Type of s is <class 'str'>\n",
      "Length of \"Hellow world\" is 12\n",
      "s takes 61 bytes in memory\n"
     ]
    }
   ],
   "source": [
    "s='Hellow world'\n",
    "print(\"s is %r\" % s)\n",
    "print(\"Type of s is %s\" % type(s))\n",
    "print(\"Length of \\\"%s\\\" is %d\" %(s,len(s)))\n",
    "print(\"s takes %d bytes in memory\" % sys.getsizeof(s))\n",
    "# \\\""
   ]
  },
  {
   "cell_type": "code",
   "execution_count": 12,
   "metadata": {},
   "outputs": [
    {
     "name": "stdout",
     "output_type": "stream",
     "text": [
      "s[0:9] is 'Australia'\n",
      "s[:9] is 'Australia'\n",
      "s[11:] is 'National University'\n",
      "s[-10:] is 'University'\n",
      "s[::3] is 'Atlnaolnei'\n",
      "s[0:0:-1] is 'ytisrevinU lanoitaN nailartsuA'\n"
     ]
    }
   ],
   "source": [
    "s='Australian National University'\n",
    "#  012345678901234567890123456789\n",
    "\n",
    "print(\"s[0:9] is %r\" % s[0:9])     # from 1st up to and excluing 9th\n",
    "print(\"s[:9] is %r\" % s[:9])       # the same\n",
    "print(\"s[11:] is %r\" % s[11:])     # from 11th till the end\n",
    "print(\"s[-10:] is %r\" % s[-10:])   # 10th last till the end\n",
    "print(\"s[::3] is %r\" % s[::3])    # from beginning to end with step 3\n",
    "print(\"s[0:0:-1] is %r\" % s[::-1]) # from end till beginning with step -1 (reverse order)\n",
    "# s[::3]\n",
    "# s[::-1]"
   ]
  },
  {
   "cell_type": "code",
   "execution_count": 3,
   "metadata": {},
   "outputs": [
    {
     "name": "stdout",
     "output_type": "stream",
     "text": [
      "s[0:9] is 'economics'\n"
     ]
    }
   ],
   "source": [
    "s='jde4jecc doij naajo rdmp hin0icbdrs1cgdhttuif 7gjxm'\n",
    "#  012345678901234567890123456789012345678901234567890\n",
    "\n",
    "print(\"s[0:9] is %r\" % s[2:35:4])     # output \"economics\"\n",
    "# s[::]"
   ]
  },
  {
   "cell_type": "code",
   "execution_count": 4,
   "metadata": {},
   "outputs": [
    {
     "name": "stdout",
     "output_type": "stream",
     "text": [
      "memory(\"a\",1 symbols) = 50 bytes\n",
      "memory(\"aa\",2 symbols) = 51 bytes\n",
      "memory(\"aaa\",3 symbols) = 52 bytes\n",
      "memory(\"aaaa\",4 symbols) = 53 bytes\n",
      "memory(\"aaaaa\",5 symbols) = 54 bytes\n",
      "memory(\"aaaaaa\",6 symbols) = 55 bytes\n",
      "memory(\"aaaaaaa\",7 symbols) = 56 bytes\n",
      "memory(\"aaaaaaaa\",8 symbols) = 57 bytes\n",
      "memory(\"aaaaaaaaa\",9 symbols) = 58 bytes\n",
      "memory(\"aaaaaaaaaa\",10 symbols) = 59 bytes\n"
     ]
    }
   ],
   "source": [
    "import sys\n",
    "s = ''\n",
    "for i in range(10):\n",
    "    s = s+'a'\n",
    "    print('memory(\\\"%s\\\",%d symbols) = %d bytes'%(s, len(s),sys.getsizeof(s)))"
   ]
  },
  {
   "cell_type": "code",
   "execution_count": 8,
   "metadata": {},
   "outputs": [
    {
     "name": "stdout",
     "output_type": "stream",
     "text": [
      "memory(\"4\") = 28 bytes\n",
      "memory(\"16\") = 28 bytes\n",
      "memory(\"256\") = 28 bytes\n",
      "memory(\"65536\") = 28 bytes\n",
      "memory(\"4294967296\") = 32 bytes\n",
      "memory(\"18446744073709551616\") = 36 bytes\n",
      "memory(\"340282366920938463463374607431768211456\") = 44 bytes\n",
      "memory(\"115792089237316195423570985008687907853269984665640564039457584007913129639936\") = 60 bytes\n",
      "memory(\"13407807929942597099574024998205846127479365820592393377723561443721764030073546976801874298166903427690031858186486050853753882811946569946433649006084096\") = 96 bytes\n",
      "memory(\"179769313486231590772930519078902473361797697894230657273430081157732675805500963132708477322407536021120113879871393357658789768814416622492847430639474124377767893424865485276302219601246094119453082952085005768838150682342462881473913110540827237163350510684586298239947245938479716304835356329624224137216\") = 164 bytes\n"
     ]
    }
   ],
   "source": [
    "x = 2\n",
    "for i in range(10):\n",
    "    x **= 2\n",
    "    print('memory(\\\"%d\\\") = %d bytes'%(x,sys.getsizeof(x)))"
   ]
  },
  {
   "cell_type": "code",
   "execution_count": 11,
   "metadata": {},
   "outputs": [
    {
     "name": "stdout",
     "output_type": "stream",
     "text": [
      "Line 1 - Value of b is 100\n",
      "Line 2 - Value of c is 42\n",
      "Line 3 - Value of c is 21\n"
     ]
    }
   ],
   "source": [
    "a = 21\n",
    "b = 10\n",
    "c = 2\n",
    "\n",
    "b **= c\n",
    "print('Line 1 - Value of b is %d'%b)\n",
    "\n",
    "c *= a\n",
    "print (\"Line 2 - Value of c is %d\" % c)\n",
    "\n",
    "c -= a\n",
    "print (\"Line 3 - Value of c is %d\" % c)"
   ]
  },
  {
   "cell_type": "code",
   "execution_count": 12,
   "metadata": {},
   "outputs": [
    {
     "name": "stdout",
     "output_type": "stream",
     "text": [
      "x is [True, 5, 5.2, 'string']\n",
      "Type of x is <class 'list'>\n",
      "x takes 96 bytes in memory\n",
      "\n",
      "y is (True,5,5.2,'string')\n",
      "Type of y is <class 'tuple'>\n",
      "Y takes 80 bytes in memory\n"
     ]
    }
   ],
   "source": [
    "x = [True, 5, 5.2, 'string',]  # trailing comma is ignored\n",
    "y = (True, 5, 5.2, 'string',)\n",
    "\n",
    "print(\"x is %r\" % x)\n",
    "print(\"Type of x is %s\" % type(x))\n",
    "print(\"x takes %d bytes in memory\" % sys.getsizeof(x))\n",
    "print()\n",
    "print(\"y is (%r,%r,%r,%r)\" % y)\n",
    "print(\"Type of y is %s\" % type(y))\n",
    "print(\"Y takes %d bytes in memory\" % sys.getsizeof(y))"
   ]
  },
  {
   "cell_type": "code",
   "execution_count": 13,
   "metadata": {},
   "outputs": [
    {
     "ename": "TypeError",
     "evalue": "'tuple' object does not support item assignment",
     "output_type": "error",
     "traceback": [
      "\u001b[1;31m---------------------------------------------------------------------------\u001b[0m",
      "\u001b[1;31mTypeError\u001b[0m                                 Traceback (most recent call last)",
      "\u001b[1;32m<ipython-input-13-afe959f6c3e1>\u001b[0m in \u001b[0;36m<module>\u001b[1;34m\u001b[0m\n\u001b[0;32m      3\u001b[0m \u001b[1;33m\u001b[0m\u001b[0m\n\u001b[0;32m      4\u001b[0m \u001b[0mx\u001b[0m\u001b[1;33m[\u001b[0m\u001b[1;36m0\u001b[0m\u001b[1;33m]\u001b[0m \u001b[1;33m=\u001b[0m \u001b[1;36m567\u001b[0m\u001b[1;33m;\u001b[0m  \u001b[1;31m# lists are mutable\u001b[0m\u001b[1;33m\u001b[0m\u001b[1;33m\u001b[0m\u001b[0m\n\u001b[1;32m----> 5\u001b[1;33m \u001b[0my\u001b[0m\u001b[1;33m[\u001b[0m\u001b[1;36m0\u001b[0m\u001b[1;33m]\u001b[0m \u001b[1;33m=\u001b[0m \u001b[1;36m567\u001b[0m\u001b[1;33m;\u001b[0m  \u001b[1;31m# tuples are immutable -> ERROR\u001b[0m\u001b[1;33m\u001b[0m\u001b[1;33m\u001b[0m\u001b[0m\n\u001b[0m",
      "\u001b[1;31mTypeError\u001b[0m: 'tuple' object does not support item assignment"
     ]
    }
   ],
   "source": [
    "x = [True, 5, 5.2, 'string',]  # last comma is ignored\n",
    "y = (True, 5, 5.2, 'string',)\n",
    "\n",
    "x[0] = 567;  # lists are mutable\n",
    "y[0] = 567;  # tuples are immutable -> ERROR"
   ]
  },
  {
   "cell_type": "code",
   "execution_count": 20,
   "metadata": {},
   "outputs": [
    {
     "name": "stdout",
     "output_type": "stream",
     "text": [
      "True\n",
      "[True, 5, 5.2, 'string', 4]\n",
      "7\n",
      "[True, 5, 5.2, 'string', 4, (4+2j), 'again', 586]\n",
      "[True, 5, 5.2, 4, (4+2j), 'again', 586]\n"
     ]
    }
   ],
   "source": [
    "x = [True, 5, 5.2, 'string', 4, 4+2j, 'again']\n",
    "print( x[0] )       # first element\n",
    "print( x[0:-2] )    # slicing as with strings\n",
    "print( len(x) )     # length of the list\n",
    "x.append(586)       # add a value at the end\n",
    "print(x)\n",
    "x.pop(3)            # remove fourth element\n",
    "print(x)"
   ]
  },
  {
   "cell_type": "markdown",
   "metadata": {},
   "source": [
    "## #5"
   ]
  },
  {
   "cell_type": "code",
   "execution_count": 21,
   "metadata": {},
   "outputs": [
    {
     "name": "stdout",
     "output_type": "stream",
     "text": [
      "Condition 1\n"
     ]
    }
   ],
   "source": [
    "x = 2\n",
    "y = 2.0\n",
    "z = [1, 2.1, 3.0, 0.0]\n",
    "\n",
    "if y == 2 and z[-1] >= 0.0:\n",
    "    print(\"Condition 1\")\n",
    "elif y < 2:\n",
    "    print(\"Condition 2\")\n",
    "else:\n",
    "    print(\"Condition 3\")"
   ]
  },
  {
   "cell_type": "code",
   "execution_count": 26,
   "metadata": {},
   "outputs": [],
   "source": [
    "if x and y:\n",
    "    x\n",
    "elif x and not y:\n",
    "    y"
   ]
  },
  {
   "cell_type": "code",
   "execution_count": 28,
   "metadata": {},
   "outputs": [
    {
     "name": "stdout",
     "output_type": "stream",
     "text": [
      "check\n",
      "done\n"
     ]
    }
   ],
   "source": [
    "if False:\n",
    "    pass\n",
    "else:\n",
    "    print(\"check\")\n",
    "print(\"done\")"
   ]
  },
  {
   "cell_type": "code",
   "execution_count": 33,
   "metadata": {},
   "outputs": [],
   "source": [
    "a, b, condition = 1, 3, False\n",
    "# a if condition else b\n",
    "c = a if condition else b"
   ]
  },
  {
   "cell_type": "code",
   "execution_count": 36,
   "metadata": {},
   "outputs": [
    {
     "data": {
      "text/plain": [
       "3"
      ]
     },
     "execution_count": 36,
     "metadata": {},
     "output_type": "execute_result"
    }
   ],
   "source": [
    "c"
   ]
  },
  {
   "cell_type": "code",
   "execution_count": 40,
   "metadata": {},
   "outputs": [
    {
     "name": "stdout",
     "output_type": "stream",
     "text": [
      "A iteration 0\n",
      "A iteration 1\n",
      "A iteration 2\n",
      "A iteration 3\n",
      "A iteration 4\n",
      "A iteration 5\n",
      "1\n",
      "B in=teration 0\n",
      "B in=teration 1\n",
      "B in=teration 2\n",
      "B in=teration 3\n",
      "B in=teration 4\n"
     ]
    }
   ],
   "source": [
    "for i in range(6):\n",
    "    print(\"A iteration %d\"%i)\n",
    "print(1)\n",
    "\n",
    "for i in range(5):\n",
    "    print(\"B in=teration %d\"%i)"
   ]
  },
  {
   "cell_type": "code",
   "execution_count": 41,
   "metadata": {},
   "outputs": [
    {
     "data": {
      "text/plain": [
       "['item 0', 'item 3', 'item 6', 'item 9', 'item 12']"
      ]
     },
     "execution_count": 41,
     "metadata": {},
     "output_type": "execute_result"
    }
   ],
   "source": [
    "x = []\n",
    "for i in range(15):\n",
    "    if i%3==0:\n",
    "        x.append(\"item %d\"%i)\n",
    "x"
   ]
  },
  {
   "cell_type": "code",
   "execution_count": 42,
   "metadata": {},
   "outputs": [
    {
     "data": {
      "text/plain": [
       "[0, 3, 6, 9, 12]"
      ]
     },
     "execution_count": 42,
     "metadata": {},
     "output_type": "execute_result"
    }
   ],
   "source": [
    "x = []\n",
    "for i in range(15):\n",
    "    if i%3==0:\n",
    "        x.append(i)\n",
    "x"
   ]
  },
  {
   "cell_type": "code",
   "execution_count": 44,
   "metadata": {},
   "outputs": [
    {
     "data": {
      "text/plain": [
       "[0, 3, 6, 9, 12]"
      ]
     },
     "execution_count": 44,
     "metadata": {},
     "output_type": "execute_result"
    }
   ],
   "source": [
    "x = [i for i in range(15) if i%3==0]\n",
    "x"
   ]
  },
  {
   "cell_type": "code",
   "execution_count": 48,
   "metadata": {},
   "outputs": [
    {
     "name": "stdout",
     "output_type": "stream",
     "text": [
      "i=0 j=a\n",
      "i=1 j=b\n",
      "i=2 j=c\n"
     ]
    }
   ],
   "source": [
    "for i, j in zip(range(3), [\"a\", \"b\", \"c\", \"d\"]):\n",
    "    print(\"i=%d j=%s\"%(i, j))"
   ]
  },
  {
   "cell_type": "code",
   "execution_count": 49,
   "metadata": {},
   "outputs": [
    {
     "name": "stdout",
     "output_type": "stream",
     "text": [
      "i=0 j=a\n",
      "i=1 j=b\n",
      "i=2 j=c\n",
      "i=3 j=d\n"
     ]
    }
   ],
   "source": [
    "for i, j in zip(range(4), [\"a\", \"b\", \"c\", \"d\"]):\n",
    "    print(\"i=%d j=%s\"%(i, j))"
   ]
  },
  {
   "cell_type": "code",
   "execution_count": 50,
   "metadata": {},
   "outputs": [
    {
     "name": "stdout",
     "output_type": "stream",
     "text": [
      "i=0 j=a\n",
      "i=1 j=b\n",
      "i=2 j=c\n",
      "i=3 j=d\n"
     ]
    }
   ],
   "source": [
    "for i, j in zip(range(5), [\"a\", \"b\", \"c\", \"d\"]):\n",
    "    print(\"i=%d j=%s\"%(i, j))"
   ]
  },
  {
   "cell_type": "code",
   "execution_count": 51,
   "metadata": {},
   "outputs": [
    {
     "data": {
      "text/plain": [
       "[1, 2, 4, 8, 16, 1, 3, 9, 27, 81, 1, 5, 25, 125, 625]"
      ]
     },
     "execution_count": 51,
     "metadata": {},
     "output_type": "execute_result"
    }
   ],
   "source": [
    "p = [x**y for x in (2,3,5) for y in range(5)]\n",
    "p"
   ]
  },
  {
   "cell_type": "code",
   "execution_count": 55,
   "metadata": {},
   "outputs": [
    {
     "name": "stdout",
     "output_type": "stream",
     "text": [
      "loop complete with k=16 i=76\n"
     ]
    }
   ],
   "source": [
    "k = 0\n",
    "for i in range(100):\n",
    "    if k>15:\n",
    "        break\n",
    "    if i%5==0:\n",
    "        k+=1\n",
    "else:\n",
    "    print(\"I went all the way up to %d\"%i)\n",
    "print(\"loop complete with k=%d i=%d\"%(k,i))"
   ]
  },
  {
   "cell_type": "code",
   "execution_count": 2,
   "metadata": {},
   "outputs": [
    {
     "name": "stdout",
     "output_type": "stream",
     "text": [
      "divisor 2: [1, 2, 3, 5, 7, 9, 11, 13, 15, 17, 19, 21, 23]\n",
      "divisor 3: [1, 2, 3, 5, 7, 11, 13, 17, 19, 23]\n",
      "divisor 4: [1, 2, 3, 5, 7, 11, 13, 17, 19, 23]\n",
      "divisor 5: [1, 2, 3, 5, 7, 11, 13, 17, 19, 23]\n",
      "divisor 6: [1, 2, 3, 5, 7, 11, 13, 17, 19, 23]\n",
      "divisor 7: [1, 2, 3, 5, 7, 11, 13, 17, 19, 23]\n",
      "divisor 8: [1, 2, 3, 5, 7, 11, 13, 17, 19, 23]\n",
      "divisor 9: [1, 2, 3, 5, 7, 11, 13, 17, 19, 23]\n",
      "divisor 10: [1, 2, 3, 5, 7, 11, 13, 17, 19, 23]\n",
      "divisor 11: [1, 2, 3, 5, 7, 11, 13, 17, 19, 23]\n",
      "divisor 12: [1, 2, 3, 5, 7, 11, 13, 17, 19, 23]\n",
      "divisor 13: [1, 2, 3, 5, 7, 11, 13, 17, 19, 23]\n",
      "divisor 14: [1, 2, 3, 5, 7, 11, 13, 17, 19, 23]\n",
      "divisor 15: [1, 2, 3, 5, 7, 11, 13, 17, 19, 23]\n",
      "divisor 16: [1, 2, 3, 5, 7, 11, 13, 17, 19, 23]\n",
      "divisor 17: [1, 2, 3, 5, 7, 11, 13, 17, 19, 23]\n",
      "divisor 18: [1, 2, 3, 5, 7, 11, 13, 17, 19, 23]\n",
      "divisor 19: [1, 2, 3, 5, 7, 11, 13, 17, 19, 23]\n",
      "divisor 20: [1, 2, 3, 5, 7, 11, 13, 17, 19, 23]\n",
      "divisor 21: [1, 2, 3, 5, 7, 11, 13, 17, 19, 23]\n",
      "divisor 22: [1, 2, 3, 5, 7, 11, 13, 17, 19, 23]\n",
      "divisor 23: [1, 2, 3, 5, 7, 11, 13, 17, 19, 23]\n",
      "Primes up to 23 are: [1, 2, 3, 5, 7, 11, 13, 17, 19, 23]\n"
     ]
    }
   ],
   "source": [
    "upper = 23\n",
    "primes = list(range(1, upper+1))\n",
    "divisor = 1\n",
    "while True:\n",
    "    divisor += 1\n",
    "    if divisor>upper:\n",
    "        break\n",
    "#     if not divisor in primes:\n",
    "#         continue\n",
    "#如果不是质数在其中，则继续\n",
    "    i = 0\n",
    "    while i < len(primes):\n",
    "        if primes[i]!=divisor and primes[i]%divisor==0:\n",
    "            primes.remove(primes[i])\n",
    "        else:\n",
    "            i+=1\n",
    "    print(\"divisor %d:\"%divisor, primes)\n",
    "print(\"Primes up to %d are:\"%upper, primes)"
   ]
  },
  {
   "cell_type": "code",
   "execution_count": 3,
   "metadata": {},
   "outputs": [
    {
     "name": "stdout",
     "output_type": "stream",
     "text": [
      "0.0\n",
      "Help on function my_function in module __main__:\n",
      "\n",
      "my_function()\n",
      "    This is docstring for my function which explains what the function does:\n",
      "    This function simply returns zero\n",
      "\n"
     ]
    }
   ],
   "source": [
    "def my_function():\n",
    "    '''This is docstring for my function which explains what the function does:\n",
    "       This function simply returns zero\n",
    "    '''\n",
    "    return 0.0\n",
    "\n",
    "# call from the main program\n",
    "x=my_function()\n",
    "print(x)\n",
    "\n",
    "# see docs\n",
    "help(my_function)"
   ]
  },
  {
   "cell_type": "code",
   "execution_count": 6,
   "metadata": {},
   "outputs": [
    {
     "name": "stdout",
     "output_type": "stream",
     "text": [
      "[0, 'test', 5]\n",
      "['one', 'two', 3]\n"
     ]
    }
   ],
   "source": [
    "def my_function(a,b,c = 5):\n",
    "    '''Build a list from three input arguments'''\n",
    "    return [a,b,c]\n",
    "\n",
    "# call from the main program\n",
    "x=my_function(0,\"test\")\n",
    "print(x)\n",
    "y=my_function(a=\"one\", c=3, b=\"two\")\n",
    "print(y)"
   ]
  },
  {
   "cell_type": "code",
   "execution_count": 7,
   "metadata": {},
   "outputs": [
    {
     "name": "stdout",
     "output_type": "stream",
     "text": [
      "my_function variables are:\n",
      "    a=10 \n",
      "    b=2 \n",
      "    my_nested_function=<function my_function.<locals>.my_nested_function at 0x00000261A5E884C8> \n",
      "my_nested_function variables:\n",
      "    c=10 \n",
      "    d=2 \n",
      "The output from my function is  240\n"
     ]
    }
   ],
   "source": [
    "def my_function(a, b):\n",
    "\n",
    "    def my_nested_function(c, d):\n",
    "        print(\"my_nested_function variables:\")    # printing all variables in the scope of the function\n",
    "        for symbol, value in locals().items():    # printing all variables in the scope of the function\n",
    "            print (\"    %s=%r \"%(symbol,value))   # printing all variables in the scope of the function\n",
    "        return c + d\n",
    "\n",
    "    print(\"my_function variables are:\")           # printing all variables in the scope of the function\n",
    "    for symbol, value in locals().items():        # printing all variables in the scope of the function\n",
    "        print (\"    %s=%r \"%(symbol,value))       # printing all variables in the scope of the function\n",
    "\n",
    "    x = a * b * my_nested_function(a,b)\n",
    "    return x\n",
    "\n",
    "# call from the main program\n",
    "x=10\n",
    "y=2\n",
    "print('The output from my function is ',my_function(x,y))"
   ]
  },
  {
   "cell_type": "code",
   "execution_count": 8,
   "metadata": {},
   "outputs": [],
   "source": [
    "import sys\n",
    "def my_plot(d):\n",
    "    '''Makes a nice plot using passed data'''\n",
    "    import matplotlib.pyplot as plt\n",
    "    plt.plot(d[\"x\"],d[\"y\"])\n",
    "    plt.axis([min(d[\"x\"]),max(d[\"x\"]),0,max(d[\"y\"])+1])\n",
    "    plt.ylabel('size in memory, bytes')\n",
    "    plt.xlabel('steps of variable update')\n",
    "    plt.show()\n",
    "    \n",
    "def memory_usage(var,grow,steps=10):\n",
    "    '''Returns data on memory usage when var is grown using supplied function for given number of steps'''\n",
    "    d={\"x\":[],\"y\":[],\"v\":[]} # dictionary for x, y data, and values\n",
    "    for i in range(steps):\n",
    "        var=grow(var) # next value\n",
    "        d[\"v\"].append(var)\n",
    "        d[\"x\"].append(i+1) # start with step 1 rather than 0\n",
    "        d[\"y\"].append(sys.getsizeof(var))\n",
    "    return d\n",
    "    "
   ]
  },
  {
   "cell_type": "code",
   "execution_count": 11,
   "metadata": {},
   "outputs": [
    {
     "name": "stdout",
     "output_type": "stream",
     "text": [
      "Last value: ['*******', '********', '*********', '**********', '***********']\n"
     ]
    },
    {
     "data": {
      "image/png": "[encoded data removed]",
      "text/plain": [
       "<Figure size 432x288 with 1 Axes>"
      ]
     },
     "metadata": {
      "needs_background": "light"
     },
     "output_type": "display_data"
    }
   ],
   "source": [
    "d=memory_usage(var='*',grow=lambda x: x+\"*\",steps=10)\n",
    "# d=memory_usage(var='*',grow=lambda x: x*2,steps=10)\n",
    "# d=memory_usage(var=1,grow=lambda x: x*2,steps=200)\n",
    "# d=memory_usage(var=1e249,grow=lambda x: x*2,steps=200)\n",
    "print(\"Last value: %r\"%d[\"v\"][-5:])\n",
    "my_plot(d)"
   ]
  },
  {
   "cell_type": "code",
   "execution_count": null,
   "metadata": {},
   "outputs": [],
   "source": []
  }
 ],
 "metadata": {
  "kernelspec": {
   "display_name": "Python 3",
   "language": "python",
   "name": "python3"
  },
  "language_info": {
   "codemirror_mode": {
    "name": "ipython",
    "version": 3
   },
   "file_extension": ".py",
   "mimetype": "text/x-python",
   "name": "python",
   "nbconvert_exporter": "python",
   "pygments_lexer": "ipython3",
   "version": "3.7.4"
  }
 },
 "nbformat": 4,
 "nbformat_minor": 2
}
